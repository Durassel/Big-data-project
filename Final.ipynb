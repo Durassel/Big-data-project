{
 "cells": [
  {
   "cell_type": "markdown",
   "metadata": {},
   "source": [
    "# Big data project\n",
    "## Project organization\n",
    "We organized our project in the following way:\n",
    "1. Choose a region thanks to global indicators in France\n",
    "2. Choose a department in this region to refine your search\n",
    "3. Choose a city to see all available house rentals"
   ]
  },
  {
   "cell_type": "markdown",
   "metadata": {},
   "source": [
    "# Global indicators on regions in France\n",
    "- Number of inhabitants in each region\n",
    "- Population trends / Population growth rate\n",
    "- A selection of the most populated cities\n",
    "- Average rental price per m²\n",
    "- ..."
   ]
  },
  {
   "cell_type": "code",
   "execution_count": 81,
   "metadata": {
    "collapsed": true
   },
   "outputs": [],
   "source": [
    "# Usefull imports\n",
    "import pandas as pd\n",
    "import xml.etree.cElementTree as et\n",
    "import matplotlib.pyplot as plt\n",
    "import numpy as np\n",
    "from ipywidgets import widgets, interact\n",
    "\n",
    "%matplotlib inline"
   ]
  },
  {
   "cell_type": "code",
   "execution_count": 68,
   "metadata": {
    "collapsed": true
   },
   "outputs": [],
   "source": [
    "# All functions used\n",
    "def select_region(Région):\n",
    "    selected_region.value = str(Région)\n",
    "\n",
    "# Replace accents\n",
    "def without_accents(col):\n",
    "    col = col.str.replace(\"á\", \"a\")\n",
    "    col = col.str.replace(\"à\", \"a\")\n",
    "    col = col.str.replace(\"â\", \"a\")\n",
    "    col = col.str.replace(\"ä\", \"a\")\n",
    "    col = col.str.replace(\"ã\", \"a\")\n",
    "    col = col.str.replace(\"å\", \"a\")\n",
    "    col = col.str.replace(\"ç\", \"c\")\n",
    "    col = col.str.replace(\"é\", \"e\")\n",
    "    col = col.str.replace(\"è\", \"e\")\n",
    "    col = col.str.replace(\"ê\", \"e\")\n",
    "    col = col.str.replace(\"ë\", \"e\")\n",
    "    col = col.str.replace(\"í\", \"i\")\n",
    "    col = col.str.replace(\"ì\", \"i\")\n",
    "    col = col.str.replace(\"î\", \"i\")\n",
    "    col = col.str.replace(\"ï\", \"i\")\n",
    "    col = col.str.replace(\"ñ\", \"n\")\n",
    "    col = col.str.replace(\"ó\", \"o\")\n",
    "    col = col.str.replace(\"ò\", \"o\")\n",
    "    col = col.str.replace(\"ô\", \"o\")\n",
    "    col = col.str.replace(\"ö\", \"o\")\n",
    "    col = col.str.replace(\"õ\", \"o\")\n",
    "    col = col.str.replace(\"ú\", \"u\")\n",
    "    col = col.str.replace(\"ù\", \"u\")\n",
    "    col = col.str.replace(\"û\", \"u\")\n",
    "    col = col.str.replace(\"ü\", \"u\")\n",
    "    col = col.str.replace(\"ý\", \"y\")\n",
    "    col = col.str.replace(\"ÿ\", \"y\")\n",
    "    col = col.str.replace(\"æ\", \"ae\")\n",
    "    col = col.str.replace(\"œ\", \"oe\")\n",
    "    return col\n",
    "\n",
    "# Return the value of a node during the reading of XML\n",
    "def getValue(node):\n",
    "    return node.text if node is not None else None"
   ]
  },
  {
   "cell_type": "code",
   "execution_count": 69,
   "metadata": {
    "collapsed": true
   },
   "outputs": [],
   "source": [
    "# Read CSV\n",
    "electricity = pd.read_csv('consommation-electrique-par-secteur-dactivite-commune.csv', sep=\";\", encoding='utf-8')\n",
    "# Drop useless columns\n",
    "electricity.drop([\"Nom EPCI\", \"Code EPCI\", \"Type EPCI\", \"Geo Shape\", \"Geo Point 2D\"], axis=1, inplace=True)\n",
    "\n",
    "# City standardization (\"-\" -> \" \" / uppercase -> lowercase / replace accents) to compare with rentals\n",
    "electricity['NC'] = electricity['Nom commune']\n",
    "electricity['NC'] = electricity['NC'].apply(lambda x: x.lower())\n",
    "electricity['NC'] = without_accents(electricity['NC'])\n",
    "electricity['NC'] = electricity['NC'].str.replace(\"-\", \" \")\n",
    "\n",
    "electricity['ND'] = electricity['Nom département']\n",
    "electricity['ND'] = electricity['ND'].apply(lambda x: x.lower())\n",
    "electricity['ND'] = without_accents(electricity['ND'])\n",
    "electricity['ND'] = electricity['ND'].str.replace(\"-\", \" \")\n",
    "\n",
    "# Array of regions\n",
    "regions = electricity['Nom région'].unique()\n",
    "regions = sorted(regions)\n",
    "\n",
    "# Array of departments\n",
    "departments = electricity['Nom département'].unique()\n",
    "departments = sorted(departments)"
   ]
  },
  {
   "cell_type": "code",
   "execution_count": 70,
   "metadata": {
    "collapsed": true
   },
   "outputs": [],
   "source": [
    "# Read XML\n",
    "xml = et.parse('data.xml')\n",
    "\n",
    "# Create a dataframe\n",
    "rentals = pd.DataFrame(columns=['title', 'Prix'])\n",
    "\n",
    "# Read data from XML file\n",
    "for node in xml.getroot():\n",
    "    title = node.find('title')\n",
    "    price = node.find('creator')\n",
    "    if title is not None and price is not None:\n",
    "        rentals = rentals.append(pd.Series([getValue(title), getValue(price)], index=['title', 'Prix']), ignore_index=True)\n",
    "\n",
    "# Split title into columns\n",
    "rentals['title'] = rentals['title'].str.replace(\"Noorea > France > \", \"\")\n",
    "rentals['Nom département'] = rentals['title'].str.split('>').str[1]\n",
    "rentals['Nom commune'] = rentals['title'].str.split('>').str[2]\n",
    "rentals['Surface'] = rentals['title'].str.split('>').str[4]\n",
    "rentals['Surface'] = rentals['Surface'].str.replace(\" m2\", \"\")\n",
    "rentals['Surface'] = rentals['Surface'].str.replace(\" \", \"\")\n",
    "rentals['title'] = rentals['title'].str.replace(\"Noorea > France > \", \"\")\n",
    "rentals = rentals.drop('title', 1)\n",
    "rentals['Prix'] = rentals['Prix'].str.replace(\" €\", \"\")\n",
    "rentals['Prix'] = rentals['Prix'].str.replace(\" \", \"\")\n",
    "\n",
    "# Remove useless whitespaces\n",
    "for index, row in rentals.iterrows():\n",
    "    rentals.loc[index, 'Nom département'] = rentals.loc[index, 'Nom département'][:-1]\n",
    "    rentals.loc[index, 'Nom département'] = rentals.loc[index, 'Nom département'][1:]\n",
    "    rentals.loc[index, 'Nom commune'] = rentals.loc[index, 'Nom commune'][:-1]\n",
    "    rentals.loc[index, 'Nom commune'] = rentals.loc[index, 'Nom commune'][1:]\n",
    "\n",
    "# City standardization (\"-\" -> \" \" / uppercase -> lowercase / replace accents)\n",
    "rentals['NC'] = rentals['Nom commune']\n",
    "rentals['NC'] = rentals['NC'].apply(lambda x: x.lower())\n",
    "rentals['NC'] = without_accents(rentals['NC'])\n",
    "rentals['NC'] = rentals['NC'].str.replace(\"-\", \" \")\n",
    "\n",
    "rentals['ND'] = rentals['Nom département']\n",
    "rentals['ND'] = rentals['ND'].apply(lambda x: x.lower())\n",
    "rentals['ND'] = without_accents(rentals['ND'])\n",
    "rentals['ND'] = rentals['ND'].str.replace(\"-\", \" \")\n",
    "\n",
    "rentals = rentals.sort_values(by=['NC', 'ND'])\n",
    "electricity = electricity.sort_values(by=['NC', 'ND'])\n",
    "\n",
    "# Electricity without years\n",
    "tmp = electricity.drop_duplicates(['Nom commune', 'Nom département', 'Nom région'])\n",
    "localities = tmp[['Nom commune', 'Nom département', 'Nom région', 'Nombre d\\'habitants', 'NC', 'ND']]\n",
    "\n",
    "# Association of the region with the department\n",
    "for index, row in rentals.iterrows():\n",
    "    tmp = localities.loc[localities['ND'] == rentals.loc[index, 'ND']]\n",
    "    if not tmp.empty:\n",
    "        rentals.loc[index, 'Nom région'] = tmp['Nom région'].iloc[0]\n",
    "\n",
    "# Columns order\n",
    "rentals = rentals[['Nom commune', 'Nom département', 'Nom région', 'Surface', 'Prix', 'NC', 'ND']]\n",
    "rentals['Prix'] = pd.to_numeric(rentals['Prix'])\n",
    "rentals['Surface'] = pd.to_numeric(rentals['Surface'])"
   ]
  },
  {
   "cell_type": "markdown",
   "metadata": {},
   "source": [
    "## Global statistics\n",
    "### Number of inhabitants in each region"
   ]
  },
  {
   "cell_type": "code",
   "execution_count": 71,
   "metadata": {},
   "outputs": [
    {
     "data": {
      "text/plain": [
       "<matplotlib.axes._subplots.AxesSubplot at 0x21ede2229b0>"
      ]
     },
     "execution_count": 71,
     "metadata": {},
     "output_type": "execute_result"
    },
    {
     "data": {
      "image/png": "[encoded data removed]",
      "text/plain": [
       "<matplotlib.figure.Figure at 0x21edfefe8d0>"
      ]
     },
     "metadata": {},
     "output_type": "display_data"
    }
   ],
   "source": [
    "# Total population\n",
    "total_population = localities['Nombre d\\'habitants'].sum(axis=0)\n",
    "\n",
    "# Population per regions\n",
    "population_by_region = pd.DataFrame(columns=['Nom région', 'Nombre d\\'habitants'])\n",
    "population_by_region['Nom région'] = regions\n",
    "\n",
    "for index, row in population_by_region.iterrows():\n",
    "    population_by_region.loc[index, 'Nombre d\\'habitants'] = localities.loc[localities['Nom région'] == population_by_region.loc[index, 'Nom région'], 'Nombre d\\'habitants'].sum(axis=0)\n",
    "population_by_region = population_by_region.set_index('Nom région')\n",
    "\n",
    "#ax1 = plt.subplot(121, aspect='equal')\n",
    "#population_by_region.plot(kind='pie', y='Nombre d\\'habitants', ax=ax1, figsize=(15,15), labels=population_by_region.index, legend=False, fontsize=8, autopct='%1.0f%%', pctdistance=0.8, labeldistance=1.2)\n",
    "population_by_region.plot(kind='bar')"
   ]
  },
  {
   "cell_type": "markdown",
   "metadata": {},
   "source": [
    "### Population trends / Population growth rate"
   ]
  },
  {
   "cell_type": "code",
   "execution_count": 169,
   "metadata": {},
   "outputs": [
    {
     "name": "stdout",
     "output_type": "stream",
     "text": [
      "Figures aren't very accurate, that's why curves are linear\n"
     ]
    },
    {
     "data": {
      "text/plain": [
       "<matplotlib.axes._subplots.AxesSubplot at 0x21eefb97908>"
      ]
     },
     "execution_count": 169,
     "metadata": {},
     "output_type": "execute_result"
    },
    {
     "data": {
      "image/png": "[encoded data removed]",
      "text/plain": [
       "<matplotlib.figure.Figure at 0x21eeb022f60>"
      ]
     },
     "metadata": {},
     "output_type": "display_data"
    }
   ],
   "source": [
    "# Evolution of population\n",
    "trends_population_by_region = pd.DataFrame(columns=[regions])\n",
    "trends_population_by_region['Année'] = []\n",
    "trends_population_by_region['Année'] = trends_population_by_region['Année'].astype(int)\n",
    "trends_population_by_region = trends_population_by_region.set_index('Année')\n",
    "\n",
    "for index, row in trends_population_by_region.iteritems():\n",
    "    trends_population_by_region.loc[2011, index] = electricity.loc[(electricity['Nom région'] == index) & (electricity['Année'] == 2011), 'Nombre d\\'habitants'].sum(axis=0)\n",
    "    trends_population_by_region.loc[2012, index] = electricity.loc[(electricity['Nom région'] == index) & (electricity['Année'] == 2012), 'Nombre d\\'habitants'].sum(axis=0)\n",
    "    trends_population_by_region.loc[2013, index] = electricity.loc[(electricity['Nom région'] == index) & (electricity['Année'] == 2013), 'Nombre d\\'habitants'].sum(axis=0)\n",
    "    trends_population_by_region.loc[2014, index] = electricity.loc[(electricity['Nom région'] == index) & (electricity['Année'] == 2014), 'Nombre d\\'habitants'].sum(axis=0)\n",
    "    trends_population_by_region.loc[2015, index] = electricity.loc[(electricity['Nom région'] == index) & (electricity['Année'] == 2015), 'Nombre d\\'habitants'].sum(axis=0)\n",
    "    trends_population_by_region.loc[2016, index] = electricity.loc[(electricity['Nom région'] == index) & (electricity['Année'] == 2016), 'Nombre d\\'habitants'].sum(axis=0)\n",
    "    #trends_population_by_region.loc[index, 'Taux d\\'accroissement'] = ((trends_population_by_region.loc[index, '2016'] - trends_population_by_region.loc[index, '2011']) / trends_population_by_region.loc[index, '2011']) * 100\n",
    "print(\"Figures aren't very accurate, that's why curves are linear\")\n",
    "trends_population_by_region.plot(figsize=(10,10)) "
   ]
  },
  {
   "cell_type": "markdown",
   "metadata": {},
   "source": [
    "### A selection of the most populated cities"
   ]
  },
  {
   "cell_type": "code",
   "execution_count": 168,
   "metadata": {},
   "outputs": [
    {
     "name": "stdout",
     "output_type": "stream",
     "text": [
      "Fluctuations may occur due to the data quality of the source file\n"
     ]
    },
    {
     "data": {
      "text/html": [
       "<div>\n",
       "<style>\n",
       "    .dataframe thead tr:only-child th {\n",
       "        text-align: right;\n",
       "    }\n",
       "\n",
       "    .dataframe thead th {\n",
       "        text-align: left;\n",
       "    }\n",
       "\n",
       "    .dataframe tbody tr th {\n",
       "        vertical-align: top;\n",
       "    }\n",
       "</style>\n",
       "<table border=\"1\" class=\"dataframe\">\n",
       "  <thead>\n",
       "    <tr style=\"text-align: right;\">\n",
       "      <th></th>\n",
       "      <th>Nom région</th>\n",
       "      <th>Nom commune</th>\n",
       "    </tr>\n",
       "  </thead>\n",
       "  <tbody>\n",
       "    <tr>\n",
       "      <th>0</th>\n",
       "      <td>Auvergne-Rhône-Alpes</td>\n",
       "      <td>Saint-Étienne</td>\n",
       "    </tr>\n",
       "    <tr>\n",
       "      <th>1</th>\n",
       "      <td>Bourgogne-Franche-Comté</td>\n",
       "      <td>Dijon</td>\n",
       "    </tr>\n",
       "    <tr>\n",
       "      <th>2</th>\n",
       "      <td>Bretagne</td>\n",
       "      <td>Rennes</td>\n",
       "    </tr>\n",
       "    <tr>\n",
       "      <th>3</th>\n",
       "      <td>Centre-Val de Loire</td>\n",
       "      <td>Tours</td>\n",
       "    </tr>\n",
       "    <tr>\n",
       "      <th>4</th>\n",
       "      <td>Grand-Est</td>\n",
       "      <td>Reims</td>\n",
       "    </tr>\n",
       "    <tr>\n",
       "      <th>5</th>\n",
       "      <td>Hauts-de-France</td>\n",
       "      <td>Lille</td>\n",
       "    </tr>\n",
       "    <tr>\n",
       "      <th>6</th>\n",
       "      <td>Normandie</td>\n",
       "      <td>Le Havre</td>\n",
       "    </tr>\n",
       "    <tr>\n",
       "      <th>7</th>\n",
       "      <td>Nouvelle Aquitaine</td>\n",
       "      <td>Bordeaux</td>\n",
       "    </tr>\n",
       "    <tr>\n",
       "      <th>8</th>\n",
       "      <td>Occitanie</td>\n",
       "      <td>Toulouse</td>\n",
       "    </tr>\n",
       "    <tr>\n",
       "      <th>9</th>\n",
       "      <td>Pays de la Loire</td>\n",
       "      <td>Nantes</td>\n",
       "    </tr>\n",
       "    <tr>\n",
       "      <th>10</th>\n",
       "      <td>Provence-Alpes-Côte d'Azur</td>\n",
       "      <td>Nice</td>\n",
       "    </tr>\n",
       "    <tr>\n",
       "      <th>11</th>\n",
       "      <td>Île-de-France</td>\n",
       "      <td>Boulogne-Billancourt</td>\n",
       "    </tr>\n",
       "  </tbody>\n",
       "</table>\n",
       "</div>"
      ],
      "text/plain": [
       "                    Nom région           Nom commune\n",
       "0         Auvergne-Rhône-Alpes         Saint-Étienne\n",
       "1      Bourgogne-Franche-Comté                 Dijon\n",
       "2                     Bretagne                Rennes\n",
       "3          Centre-Val de Loire                 Tours\n",
       "4                    Grand-Est                 Reims\n",
       "5              Hauts-de-France                 Lille\n",
       "6                    Normandie              Le Havre\n",
       "7           Nouvelle Aquitaine              Bordeaux\n",
       "8                    Occitanie              Toulouse\n",
       "9             Pays de la Loire                Nantes\n",
       "10  Provence-Alpes-Côte d'Azur                  Nice\n",
       "11               Île-de-France  Boulogne-Billancourt"
      ]
     },
     "execution_count": 168,
     "metadata": {},
     "output_type": "execute_result"
    }
   ],
   "source": [
    "major_cities = pd.DataFrame(columns=['Nom région', 'Nom commune'])\n",
    "major_cities['Nom région'] = regions\n",
    "for index, row in major_cities.iterrows():\n",
    "    major_cities.loc[index, 'Nom commune'] = localities.loc[(localities['Nom région'] == major_cities.loc[index, 'Nom région']), 'Nombre d\\'habitants'].max(axis=0)\n",
    "    major_cities.loc[index, 'Nom commune'] = (localities['Nom commune'][localities['Nombre d\\'habitants'] == major_cities.loc[index, 'Nom commune']]).iloc[0]\n",
    "print(\"Fluctuations may occur due to the data quality of the source file\")\n",
    "major_cities"
   ]
  },
  {
   "cell_type": "markdown",
   "metadata": {},
   "source": [
    "### Average rental price per m²"
   ]
  },
  {
   "cell_type": "code",
   "execution_count": 66,
   "metadata": {},
   "outputs": [
    {
     "ename": "ValueError",
     "evalue": "The truth value of a Series is ambiguous. Use a.empty, a.bool(), a.item(), a.any() or a.all().",
     "output_type": "error",
     "traceback": [
      "\u001b[1;31m---------------------------------------------------------------------------\u001b[0m",
      "\u001b[1;31mValueError\u001b[0m                                Traceback (most recent call last)",
      "\u001b[1;32m<ipython-input-66-12936d14e8fc>\u001b[0m in \u001b[0;36m<module>\u001b[1;34m()\u001b[0m\n\u001b[0;32m      3\u001b[0m \u001b[0mtmp\u001b[0m \u001b[1;33m=\u001b[0m \u001b[1;36m0\u001b[0m\u001b[1;33m\u001b[0m\u001b[0m\n\u001b[0;32m      4\u001b[0m \u001b[1;32mfor\u001b[0m \u001b[0mindex\u001b[0m\u001b[1;33m,\u001b[0m \u001b[0mrow\u001b[0m \u001b[1;32min\u001b[0m \u001b[0maverage_rental_prices_regions\u001b[0m\u001b[1;33m.\u001b[0m\u001b[0miterrows\u001b[0m\u001b[1;33m(\u001b[0m\u001b[1;33m)\u001b[0m\u001b[1;33m:\u001b[0m\u001b[1;33m\u001b[0m\u001b[0m\n\u001b[1;32m----> 5\u001b[1;33m     \u001b[1;32mif\u001b[0m \u001b[1;33m(\u001b[0m\u001b[0mrentals\u001b[0m\u001b[1;33m[\u001b[0m\u001b[1;34m'Nom région'\u001b[0m\u001b[1;33m]\u001b[0m \u001b[1;33m==\u001b[0m \u001b[0maverage_rental_prices_regions\u001b[0m\u001b[1;33m.\u001b[0m\u001b[0mloc\u001b[0m\u001b[1;33m[\u001b[0m\u001b[0mindex\u001b[0m\u001b[1;33m,\u001b[0m \u001b[1;34m'Nom région'\u001b[0m\u001b[1;33m]\u001b[0m\u001b[1;33m)\u001b[0m \u001b[1;33m&\u001b[0m \u001b[1;33m(\u001b[0m\u001b[0mrentals\u001b[0m\u001b[1;33m[\u001b[0m\u001b[1;34m'Nom région'\u001b[0m\u001b[1;33m]\u001b[0m \u001b[1;33m==\u001b[0m \u001b[0maverage_rental_prices_regions\u001b[0m\u001b[1;33m.\u001b[0m\u001b[0mloc\u001b[0m\u001b[1;33m[\u001b[0m\u001b[0mindex\u001b[0m\u001b[1;33m,\u001b[0m \u001b[1;34m'Nom région'\u001b[0m\u001b[1;33m]\u001b[0m\u001b[1;33m)\u001b[0m\u001b[1;33m:\u001b[0m\u001b[1;33m\u001b[0m\u001b[0m\n\u001b[0m\u001b[0;32m      6\u001b[0m         \u001b[0mprint\u001b[0m\u001b[1;33m(\u001b[0m\u001b[1;34m\"a\"\u001b[0m\u001b[1;33m)\u001b[0m\u001b[1;33m\u001b[0m\u001b[0m\n\u001b[0;32m      7\u001b[0m         \u001b[1;31m#tmp += (rentals.loc[average_rental_prices_regions.loc[index, 'Nom région'], 'Prix']) / (rentals.loc[average_rental_prices_regions.loc[index, 'Nom région'], 'Surface'])\u001b[0m\u001b[1;33m\u001b[0m\u001b[1;33m\u001b[0m\u001b[0m\n",
      "\u001b[1;32m~\\Anaconda3\\lib\\site-packages\\pandas\\core\\generic.py\u001b[0m in \u001b[0;36m__nonzero__\u001b[1;34m(self)\u001b[0m\n\u001b[0;32m    953\u001b[0m         raise ValueError(\"The truth value of a {0} is ambiguous. \"\n\u001b[0;32m    954\u001b[0m                          \u001b[1;34m\"Use a.empty, a.bool(), a.item(), a.any() or a.all().\"\u001b[0m\u001b[1;33m\u001b[0m\u001b[0m\n\u001b[1;32m--> 955\u001b[1;33m                          .format(self.__class__.__name__))\n\u001b[0m\u001b[0;32m    956\u001b[0m \u001b[1;33m\u001b[0m\u001b[0m\n\u001b[0;32m    957\u001b[0m     \u001b[0m__bool__\u001b[0m \u001b[1;33m=\u001b[0m \u001b[0m__nonzero__\u001b[0m\u001b[1;33m\u001b[0m\u001b[0m\n",
      "\u001b[1;31mValueError\u001b[0m: The truth value of a Series is ambiguous. Use a.empty, a.bool(), a.item(), a.any() or a.all()."
     ]
    }
   ],
   "source": [
    "average_rental_prices_regions = pd.DataFrame(columns=['Nom région', 'Average rental price per m²'])\n",
    "average_rental_prices_regions['Nom région'] = regions\n",
    "tmp = 0\n",
    "for index, row in average_rental_prices_regions.iterrows():\n",
    "    tmp += (rentals.loc[rentals['Nom région'] == average_rental_prices_regions.loc[index, 'Nom région'], 'Prix']) / (rentals.loc[rentals['Nom région'] == average_rental_prices_regions.loc[index, 'Nom région'], 'Surface'])\n",
    "    average_rental_prices_regions.loc[index, 'Average rental price per m²'] = 0\n",
    "    #print(tmp)\n",
    "rentals"
   ]
  },
  {
   "cell_type": "markdown",
   "metadata": {},
   "source": [
    "### Select a region to continue"
   ]
  },
  {
   "cell_type": "code",
   "execution_count": 43,
   "metadata": {},
   "outputs": [
    {
     "data": {
      "application/vnd.jupyter.widget-view+json": {
       "model_id": "e9e168014661496584c0804d2d29dd61",
       "version_major": 2,
       "version_minor": 0
      },
      "text/plain": [
       "A Jupyter Widget"
      ]
     },
     "metadata": {},
     "output_type": "display_data"
    },
    {
     "data": {
      "application/vnd.jupyter.widget-view+json": {
       "model_id": "38f4501cbd5a411c887114e0cf256bfe",
       "version_major": 2,
       "version_minor": 0
      },
      "text/plain": [
       "A Jupyter Widget"
      ]
     },
     "metadata": {},
     "output_type": "display_data"
    }
   ],
   "source": [
    "# Create text widget for output\n",
    "selected_region = widgets.Text()\n",
    "\n",
    "interact(select_region, Région=regions)\n",
    "\n",
    "# Display output variable in text box\n",
    "selected_region"
   ]
  },
  {
   "cell_type": "markdown",
   "metadata": {},
   "source": [
    "# Indicators in the selected region\n",
    "- Statistics about each department:\n",
    "    - Number of inhabitants\n",
    "    - Percentage of economic activities (agriculture, tertiary, industry)\n",
    "    - ..."
   ]
  },
  {
   "cell_type": "markdown",
   "metadata": {},
   "source": [
    "### Inhabitants"
   ]
  },
  {
   "cell_type": "code",
   "execution_count": 78,
   "metadata": {},
   "outputs": [
    {
     "name": "stdout",
     "output_type": "stream",
     "text": [
      "Total population of the selected region: 9,665,938\n"
     ]
    },
    {
     "data": {
      "image/png": "[encoded data removed]",
      "text/plain": [
       "<matplotlib.figure.Figure at 0x21ee10ae7b8>"
      ]
     },
     "metadata": {},
     "output_type": "display_data"
    }
   ],
   "source": [
    "# Population per departments\n",
    "population_by_department = pd.DataFrame(columns=['Nom département', 'Nombre d\\'habitants'])\n",
    "population_by_department['Nom département'] = sorted((localities[\"Nom département\"][(localities[\"Nom région\"] == selected_region.value)]).drop_duplicates())\n",
    "\n",
    "for index, row in population_by_department.iterrows():\n",
    "    population_by_department.loc[index, 'Nombre d\\'habitants'] = localities.loc[localities['Nom département'] == population_by_department.loc[index, 'Nom département'], 'Nombre d\\'habitants'].sum(axis=0)\n",
    "population_by_department = population_by_department.set_index('Nom département')\n",
    "\n",
    "#ax1 = plt.subplot(121, aspect='equal')\n",
    "#population_by_department.plot(kind='pie', y='Nombre d\\'habitants', ax=ax1, figsize=(15,15), labels=population_by_department.index, legend=False, fontsize=8, autopct='%1.0f%%', pctdistance=0.8, labeldistance=1.2)\n",
    "population_by_department.plot(kind='bar')\n",
    "total_population_by_selected_region = population_by_department['Nombre d\\'habitants'].sum()\n",
    "print(\"Total population of the selected region: \" + \"{:,}\".format(total_population_by_selected_region))"
   ]
  },
  {
   "cell_type": "markdown",
   "metadata": {},
   "source": [
    "# Indicators  in the selected department\n",
    "- Statistics about \n",
    "- City with house rentals\n",
    "- ..."
   ]
  }
 ],
 "metadata": {
  "kernelspec": {
   "display_name": "Python 3",
   "language": "python",
   "name": "python3"
  },
  "language_info": {
   "codemirror_mode": {
    "name": "ipython",
    "version": 3
   },
   "file_extension": ".py",
   "mimetype": "text/x-python",
   "name": "python",
   "nbconvert_exporter": "python",
   "pygments_lexer": "ipython3",
   "version": "3.6.3"
  }
 },
 "nbformat": 4,
 "nbformat_minor": 2
}
